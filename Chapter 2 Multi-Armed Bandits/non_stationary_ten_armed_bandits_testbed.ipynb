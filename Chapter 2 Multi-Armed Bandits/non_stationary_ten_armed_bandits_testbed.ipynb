{
 "cells": [
  {
   "cell_type": "markdown",
   "metadata": {},
   "source": [
    "In this notebook we have implemented a simple bandit algorithm described on page 32 for 10-armed Testbed problem in Chapter 2.3"
   ]
  },
  {
   "cell_type": "code",
   "execution_count": 1,
   "metadata": {},
   "outputs": [],
   "source": [
    "import numpy as np\n",
    "import pandas as pd\n",
    "import matplotlib.pyplot as plt\n",
    "import seaborn as sns\n",
    "\n",
    "sns.set_context(\"paper\")\n",
    "sns.set_theme(\"paper\")\n",
    "%matplotlib inline"
   ]
  },
  {
   "cell_type": "code",
   "execution_count": 2,
   "metadata": {},
   "outputs": [],
   "source": [
    "num_testbed = 100 # 2000\n",
    "num_armed_bandits = 10\n",
    "num_experience_steps = 1000\n",
    "initial_value_multiplier = 0.0\n",
    "armed_bandit_dynamics = 0.01 # standard deviation of evolution\n",
    "\n",
    "testbed = np.random.normal(size=(num_testbed, num_armed_bandits))\n",
    "action_value_estimates = initial_value_multiplier* np.ones_like(testbed)\n",
    "action_select_counts = np.ones_like(testbed)"
   ]
  },
  {
   "cell_type": "code",
   "execution_count": null,
   "metadata": {},
   "outputs": [],
   "source": []
  }
 ],
 "metadata": {
  "kernelspec": {
   "display_name": "Chapter_2_Multi-Armed_Bandits-acoj4w9e",
   "language": "python",
   "name": "python3"
  },
  "language_info": {
   "codemirror_mode": {
    "name": "ipython",
    "version": 3
   },
   "file_extension": ".py",
   "mimetype": "text/x-python",
   "name": "python",
   "nbconvert_exporter": "python",
   "pygments_lexer": "ipython3",
   "version": "3.12.1"
  }
 },
 "nbformat": 4,
 "nbformat_minor": 2
}
